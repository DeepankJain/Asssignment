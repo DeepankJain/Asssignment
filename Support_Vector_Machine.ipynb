{
  "nbformat": 4,
  "nbformat_minor": 0,
  "metadata": {
    "colab": {
      "name": "Support Vector Machine.ipynb",
      "version": "0.3.2",
      "provenance": [],
      "include_colab_link": true
    },
    "kernelspec": {
      "name": "python3",
      "display_name": "Python 3"
    }
  },
  "cells": [
    {
      "cell_type": "markdown",
      "metadata": {
        "id": "view-in-github",
        "colab_type": "text"
      },
      "source": [
        "[View in Colaboratory](https://colab.research.google.com/github/DeepankJain/Asssignment/blob/master/Support_Vector_Machine.ipynb)"
      ]
    },
    {
      "metadata": {
        "id": "XGcTZs_1ZN1N",
        "colab_type": "code",
        "colab": {}
      },
      "cell_type": "code",
      "source": [
        "#importing libraries\n",
        "import pandas as pd\n",
        "import numpy as np\n",
        "import seaborn as sb\n",
        "import matplotlib.pyplot as plt\n",
        "%matplotlib inline"
      ],
      "execution_count": 0,
      "outputs": []
    },
    {
      "metadata": {
        "id": "Zw_EahqqZOlG",
        "colab_type": "code",
        "colab": {}
      },
      "cell_type": "code",
      "source": [
        "from sklearn.datasets import load_digits\n",
        "mnist= load_digits()"
      ],
      "execution_count": 0,
      "outputs": []
    },
    {
      "metadata": {
        "id": "H4MZZW9DZSeO",
        "colab_type": "code",
        "colab": {
          "base_uri": "https://localhost:8080/",
          "height": 51
        },
        "outputId": "9cfc5aa7-304f-4185-c47b-c8be0c77f166"
      },
      "cell_type": "code",
      "source": [
        "print(mnist.data.shape)\n",
        "print(mnist.target.shape)"
      ],
      "execution_count": 3,
      "outputs": [
        {
          "output_type": "stream",
          "text": [
            "(1797, 64)\n",
            "(1797,)\n"
          ],
          "name": "stdout"
        }
      ]
    },
    {
      "metadata": {
        "id": "1qst3PtvZVgi",
        "colab_type": "code",
        "colab": {
          "base_uri": "https://localhost:8080/",
          "height": 142
        },
        "outputId": "bf3ad4ff-7e16-4a3f-8fc1-8aba828532d0"
      },
      "cell_type": "code",
      "source": [
        "plt.figure(figsize = (20, 10))\n",
        "for index, (image, label) in enumerate(zip(mnist.data[0:10], mnist.target[0:10])):\n",
        "    plt.subplot(1, 10, index+1)\n",
        "    plt.imshow(np.reshape(image, (8, 8)), cmap = plt.cm.gray)"
      ],
      "execution_count": 4,
      "outputs": [
        {
          "output_type": "display_data",
          "data": {
            "image/png": "[encoded data removed]",
            "text/plain": [
              "<matplotlib.figure.Figure at 0x7fc51441b2e8>"
            ]
          },
          "metadata": {
            "tags": []
          }
        }
      ]
    },
    {
      "metadata": {
        "id": "3l_9zYqvZZL0",
        "colab_type": "code",
        "colab": {
          "base_uri": "https://localhost:8080/",
          "height": 71
        },
        "outputId": "ebb7f9b7-d731-4cfd-eb67-2ada5e4646d1"
      },
      "cell_type": "code",
      "source": [
        "from sklearn.model_selection import train_test_split\n",
        "train_x, test_x, train_y, test_y = train_test_split(mnist.data, mnist.target, train_size = 0.8)"
      ],
      "execution_count": 5,
      "outputs": [
        {
          "output_type": "stream",
          "text": [
            "/usr/local/lib/python3.6/dist-packages/sklearn/model_selection/_split.py:2026: FutureWarning: From version 0.21, test_size will always complement train_size unless both are specified.\n",
            "  FutureWarning)\n"
          ],
          "name": "stderr"
        }
      ]
    },
    {
      "metadata": {
        "id": "sfehiMjLZdw3",
        "colab_type": "code",
        "colab": {}
      },
      "cell_type": "code",
      "source": [
        "from sklearn.svm import SVC\n",
        "from sklearn.metrics import r2_score,confusion_matrix,classification_report"
      ],
      "execution_count": 0,
      "outputs": []
    },
    {
      "metadata": {
        "id": "P-us8vUHZiQ7",
        "colab_type": "code",
        "colab": {
          "base_uri": "https://localhost:8080/",
          "height": 85
        },
        "outputId": "f8b5d633-0c68-40be-ec48-248055814da3"
      },
      "cell_type": "code",
      "source": [
        "model_Linear = SVC(kernel = 'linear', degree = 8)\n",
        "model_Linear.fit(train_x, train_y)"
      ],
      "execution_count": 7,
      "outputs": [
        {
          "output_type": "execute_result",
          "data": {
            "text/plain": [
              "SVC(C=1.0, cache_size=200, class_weight=None, coef0=0.0,\n",
              "  decision_function_shape='ovr', degree=8, gamma='auto', kernel='linear',\n",
              "  max_iter=-1, probability=False, random_state=None, shrinking=True,\n",
              "  tol=0.001, verbose=False)"
            ]
          },
          "metadata": {
            "tags": []
          },
          "execution_count": 7
        }
      ]
    },
    {
      "metadata": {
        "id": "aGNElpVfZl3m",
        "colab_type": "code",
        "colab": {
          "base_uri": "https://localhost:8080/",
          "height": 1105
        },
        "outputId": "746bd4fe-0cb8-41a4-a68c-4be658e35dbe"
      },
      "cell_type": "code",
      "source": [
        "prediction_Linear=model_Linear.predict(test_x)\n",
        "\n",
        "results_Linear=pd.DataFrame({'Prediction':prediction_Linear,'Actual':test_y})\n",
        "print(results_Linear)"
      ],
      "execution_count": 8,
      "outputs": [
        {
          "output_type": "stream",
          "text": [
            "     Actual  Prediction\n",
            "0         3           3\n",
            "1         5           5\n",
            "2         2           2\n",
            "3         4           4\n",
            "4         3           3\n",
            "5         9           9\n",
            "6         6           6\n",
            "7         9           9\n",
            "8         5           5\n",
            "9         9           9\n",
            "10        1           1\n",
            "11        1           1\n",
            "12        2           2\n",
            "13        4           4\n",
            "14        2           2\n",
            "15        3           3\n",
            "16        7           7\n",
            "17        3           3\n",
            "18        2           2\n",
            "19        0           0\n",
            "20        4           4\n",
            "21        0           0\n",
            "22        3           3\n",
            "23        2           2\n",
            "24        2           2\n",
            "25        9           9\n",
            "26        3           3\n",
            "27        9           9\n",
            "28        8           8\n",
            "29        6           6\n",
            "..      ...         ...\n",
            "330       3           3\n",
            "331       8           8\n",
            "332       5           5\n",
            "333       0           0\n",
            "334       6           6\n",
            "335       6           6\n",
            "336       6           6\n",
            "337       7           7\n",
            "338       3           3\n",
            "339       5           5\n",
            "340       9           9\n",
            "341       1           1\n",
            "342       8           8\n",
            "343       6           6\n",
            "344       3           3\n",
            "345       3           3\n",
            "346       7           7\n",
            "347       7           7\n",
            "348       9           9\n",
            "349       7           7\n",
            "350       1           1\n",
            "351       2           2\n",
            "352       4           4\n",
            "353       6           6\n",
            "354       3           3\n",
            "355       1           8\n",
            "356       0           0\n",
            "357       2           2\n",
            "358       0           0\n",
            "359       2           2\n",
            "\n",
            "[360 rows x 2 columns]\n"
          ],
          "name": "stdout"
        }
      ]
    },
    {
      "metadata": {
        "id": "fO4x7NIJZogV",
        "colab_type": "code",
        "colab": {
          "base_uri": "https://localhost:8080/",
          "height": 187
        },
        "outputId": "b70940ae-01dc-4cd6-8f1a-5b2dd347bade"
      },
      "cell_type": "code",
      "source": [
        "print(confusion_matrix(test_y,prediction_Linear))"
      ],
      "execution_count": 9,
      "outputs": [
        {
          "output_type": "stream",
          "text": [
            "[[37  0  0  0  0  0  0  0  0  0]\n",
            " [ 0 32  0  0  0  0  0  0  2  0]\n",
            " [ 0  0 37  0  0  0  0  0  0  0]\n",
            " [ 0  0  0 48  0  0  0  0  0  0]\n",
            " [ 0  0  0  0 27  0  0  0  0  0]\n",
            " [ 0  0  0  0  0 35  0  0  0  0]\n",
            " [ 1  0  0  0  0  0 36  0  0  0]\n",
            " [ 0  0  0  0  1  0  0 39  0  2]\n",
            " [ 0  0  1  0  0  1  0  0 30  0]\n",
            " [ 0  0  0  1  0  0  0  0  0 30]]\n"
          ],
          "name": "stdout"
        }
      ]
    },
    {
      "metadata": {
        "id": "bBUlfaRXZtTB",
        "colab_type": "code",
        "colab": {
          "base_uri": "https://localhost:8080/",
          "height": 34
        },
        "outputId": "9652e613-51f3-4e9b-b749-647ad0f4770f"
      },
      "cell_type": "code",
      "source": [
        "print(r2_score(test_y, prediction_Linear))"
      ],
      "execution_count": 10,
      "outputs": [
        {
          "output_type": "stream",
          "text": [
            "0.9195223760941372\n"
          ],
          "name": "stdout"
        }
      ]
    },
    {
      "metadata": {
        "id": "m_wDtK5ZZwUt",
        "colab_type": "code",
        "colab": {
          "base_uri": "https://localhost:8080/",
          "height": 272
        },
        "outputId": "b37c1845-4ae2-408f-f426-dc6f79caecba"
      },
      "cell_type": "code",
      "source": [
        "print(classification_report(test_y, prediction_Linear))"
      ],
      "execution_count": 11,
      "outputs": [
        {
          "output_type": "stream",
          "text": [
            "             precision    recall  f1-score   support\n",
            "\n",
            "          0       0.97      1.00      0.99        37\n",
            "          1       1.00      0.94      0.97        34\n",
            "          2       0.97      1.00      0.99        37\n",
            "          3       0.98      1.00      0.99        48\n",
            "          4       0.96      1.00      0.98        27\n",
            "          5       0.97      1.00      0.99        35\n",
            "          6       1.00      0.97      0.99        37\n",
            "          7       1.00      0.93      0.96        42\n",
            "          8       0.94      0.94      0.94        32\n",
            "          9       0.94      0.97      0.95        31\n",
            "\n",
            "avg / total       0.98      0.97      0.97       360\n",
            "\n"
          ],
          "name": "stdout"
        }
      ]
    },
    {
      "metadata": {
        "id": "qAZVsGYnZz3c",
        "colab_type": "code",
        "colab": {
          "base_uri": "https://localhost:8080/",
          "height": 85
        },
        "outputId": "d00f1fce-09d3-41e2-b1fb-0724d7153319"
      },
      "cell_type": "code",
      "source": [
        "model_Poly = SVC(kernel = 'poly', degree = 8)\n",
        "model_Poly.fit(train_x, train_y)"
      ],
      "execution_count": 12,
      "outputs": [
        {
          "output_type": "execute_result",
          "data": {
            "text/plain": [
              "SVC(C=1.0, cache_size=200, class_weight=None, coef0=0.0,\n",
              "  decision_function_shape='ovr', degree=8, gamma='auto', kernel='poly',\n",
              "  max_iter=-1, probability=False, random_state=None, shrinking=True,\n",
              "  tol=0.001, verbose=False)"
            ]
          },
          "metadata": {
            "tags": []
          },
          "execution_count": 12
        }
      ]
    },
    {
      "metadata": {
        "id": "NK58DNCpZ3v5",
        "colab_type": "code",
        "colab": {
          "base_uri": "https://localhost:8080/",
          "height": 1105
        },
        "outputId": "259c0035-fc44-4dfb-c86a-5d630231f9b2"
      },
      "cell_type": "code",
      "source": [
        "prediction_Poly=model_Poly.predict(test_x)\n",
        "\n",
        "results_Poly=pd.DataFrame({'Prediction':prediction_Poly,'Actual':test_y})\n",
        "print(results_Poly)"
      ],
      "execution_count": 13,
      "outputs": [
        {
          "output_type": "stream",
          "text": [
            "     Actual  Prediction\n",
            "0         3           3\n",
            "1         5           5\n",
            "2         2           2\n",
            "3         4           4\n",
            "4         3           3\n",
            "5         9           9\n",
            "6         6           6\n",
            "7         9           9\n",
            "8         5           5\n",
            "9         9           9\n",
            "10        1           1\n",
            "11        1           1\n",
            "12        2           2\n",
            "13        4           4\n",
            "14        2           2\n",
            "15        3           3\n",
            "16        7           7\n",
            "17        3           3\n",
            "18        2           2\n",
            "19        0           0\n",
            "20        4           4\n",
            "21        0           0\n",
            "22        3           3\n",
            "23        2           2\n",
            "24        2           2\n",
            "25        9           9\n",
            "26        3           3\n",
            "27        9           9\n",
            "28        8           8\n",
            "29        6           6\n",
            "..      ...         ...\n",
            "330       3           3\n",
            "331       8           8\n",
            "332       5           5\n",
            "333       0           0\n",
            "334       6           6\n",
            "335       6           6\n",
            "336       6           6\n",
            "337       7           7\n",
            "338       3           3\n",
            "339       5           5\n",
            "340       9           9\n",
            "341       1           1\n",
            "342       8           8\n",
            "343       6           6\n",
            "344       3           3\n",
            "345       3           3\n",
            "346       7           7\n",
            "347       7           7\n",
            "348       9           9\n",
            "349       7           7\n",
            "350       1           8\n",
            "351       2           2\n",
            "352       4           4\n",
            "353       6           6\n",
            "354       3           3\n",
            "355       1           8\n",
            "356       0           0\n",
            "357       2           2\n",
            "358       0           0\n",
            "359       2           2\n",
            "\n",
            "[360 rows x 2 columns]\n"
          ],
          "name": "stdout"
        }
      ]
    },
    {
      "metadata": {
        "id": "q_ifxF_kZ6wC",
        "colab_type": "code",
        "colab": {
          "base_uri": "https://localhost:8080/",
          "height": 187
        },
        "outputId": "f925bbc4-6772-4a6a-a05f-e3198e64c68b"
      },
      "cell_type": "code",
      "source": [
        "print(confusion_matrix(test_y,prediction_Poly))"
      ],
      "execution_count": 14,
      "outputs": [
        {
          "output_type": "stream",
          "text": [
            "[[37  0  0  0  0  0  0  0  0  0]\n",
            " [ 0 31  0  0  0  0  0  0  3  0]\n",
            " [ 0  0 36  0  0  0  0  1  0  0]\n",
            " [ 0  0  0 48  0  0  0  0  0  0]\n",
            " [ 0  0  0  0 26  0  0  0  0  1]\n",
            " [ 0  0  0  0  1 34  0  0  0  0]\n",
            " [ 0  0  0  0  0  0 36  0  1  0]\n",
            " [ 0  1  0  0  0  0  0 39  1  1]\n",
            " [ 0  0  0  0  0  0  0  0 32  0]\n",
            " [ 0  0  0  1  0  0  0  0  0 30]]\n"
          ],
          "name": "stdout"
        }
      ]
    },
    {
      "metadata": {
        "id": "1LgK0bzvZ_Il",
        "colab_type": "code",
        "colab": {
          "base_uri": "https://localhost:8080/",
          "height": 34
        },
        "outputId": "30736d1f-5098-42d9-9e12-0e654f099d73"
      },
      "cell_type": "code",
      "source": [
        "print(r2_score(test_y, prediction_Poly))"
      ],
      "execution_count": 15,
      "outputs": [
        {
          "output_type": "stream",
          "text": [
            "0.9032187195270013\n"
          ],
          "name": "stdout"
        }
      ]
    },
    {
      "metadata": {
        "id": "TwBfLajJaB8b",
        "colab_type": "code",
        "colab": {
          "base_uri": "https://localhost:8080/",
          "height": 272
        },
        "outputId": "789a13ff-1197-40b8-99a8-cb0afc79653c"
      },
      "cell_type": "code",
      "source": [
        "print(classification_report(test_y, prediction_Poly))"
      ],
      "execution_count": 16,
      "outputs": [
        {
          "output_type": "stream",
          "text": [
            "             precision    recall  f1-score   support\n",
            "\n",
            "          0       1.00      1.00      1.00        37\n",
            "          1       0.97      0.91      0.94        34\n",
            "          2       1.00      0.97      0.99        37\n",
            "          3       0.98      1.00      0.99        48\n",
            "          4       0.96      0.96      0.96        27\n",
            "          5       1.00      0.97      0.99        35\n",
            "          6       1.00      0.97      0.99        37\n",
            "          7       0.97      0.93      0.95        42\n",
            "          8       0.86      1.00      0.93        32\n",
            "          9       0.94      0.97      0.95        31\n",
            "\n",
            "avg / total       0.97      0.97      0.97       360\n",
            "\n"
          ],
          "name": "stdout"
        }
      ]
    },
    {
      "metadata": {
        "id": "qvXQcGzeaEv2",
        "colab_type": "code",
        "colab": {
          "base_uri": "https://localhost:8080/",
          "height": 85
        },
        "outputId": "6438d400-8adb-42d2-8126-c1c85c20df9d"
      },
      "cell_type": "code",
      "source": [
        "model_Gaussian = SVC(kernel = 'rbf', degree = 8)\n",
        "model_Gaussian.fit(train_x, train_y)"
      ],
      "execution_count": 17,
      "outputs": [
        {
          "output_type": "execute_result",
          "data": {
            "text/plain": [
              "SVC(C=1.0, cache_size=200, class_weight=None, coef0=0.0,\n",
              "  decision_function_shape='ovr', degree=8, gamma='auto', kernel='rbf',\n",
              "  max_iter=-1, probability=False, random_state=None, shrinking=True,\n",
              "  tol=0.001, verbose=False)"
            ]
          },
          "metadata": {
            "tags": []
          },
          "execution_count": 17
        }
      ]
    },
    {
      "metadata": {
        "id": "qz6Nm9tAaIYv",
        "colab_type": "code",
        "colab": {
          "base_uri": "https://localhost:8080/",
          "height": 1105
        },
        "outputId": "0b2af9a4-907d-4d73-d394-e6062af11a4e"
      },
      "cell_type": "code",
      "source": [
        "prediction_Gaussian=model_Gaussian.predict(test_x)\n",
        "\n",
        "results_Gaussian=pd.DataFrame({'Prediction':prediction_Gaussian,'Actual':test_y})\n",
        "print(results_Gaussian)"
      ],
      "execution_count": 18,
      "outputs": [
        {
          "output_type": "stream",
          "text": [
            "     Actual  Prediction\n",
            "0         3           9\n",
            "1         5           5\n",
            "2         2           9\n",
            "3         4           9\n",
            "4         3           9\n",
            "5         9           9\n",
            "6         6           6\n",
            "7         9           9\n",
            "8         5           5\n",
            "9         9           9\n",
            "10        1           9\n",
            "11        1           9\n",
            "12        2           9\n",
            "13        4           4\n",
            "14        2           2\n",
            "15        3           9\n",
            "16        7           9\n",
            "17        3           9\n",
            "18        2           2\n",
            "19        0           0\n",
            "20        4           4\n",
            "21        0           9\n",
            "22        3           9\n",
            "23        2           2\n",
            "24        2           9\n",
            "25        9           9\n",
            "26        3           3\n",
            "27        9           9\n",
            "28        8           8\n",
            "29        6           6\n",
            "..      ...         ...\n",
            "330       3           9\n",
            "331       8           9\n",
            "332       5           5\n",
            "333       0           0\n",
            "334       6           6\n",
            "335       6           9\n",
            "336       6           6\n",
            "337       7           9\n",
            "338       3           9\n",
            "339       5           5\n",
            "340       9           9\n",
            "341       1           9\n",
            "342       8           9\n",
            "343       6           9\n",
            "344       3           3\n",
            "345       3           9\n",
            "346       7           9\n",
            "347       7           9\n",
            "348       9           9\n",
            "349       7           9\n",
            "350       1           9\n",
            "351       2           2\n",
            "352       4           4\n",
            "353       6           6\n",
            "354       3           9\n",
            "355       1           9\n",
            "356       0           0\n",
            "357       2           2\n",
            "358       0           0\n",
            "359       2           9\n",
            "\n",
            "[360 rows x 2 columns]\n"
          ],
          "name": "stdout"
        }
      ]
    },
    {
      "metadata": {
        "id": "37CgC5FGaMVf",
        "colab_type": "code",
        "colab": {
          "base_uri": "https://localhost:8080/",
          "height": 187
        },
        "outputId": "73ab2337-5156-4090-ebc4-e7302c902c95"
      },
      "cell_type": "code",
      "source": [
        "print(confusion_matrix(test_y,prediction_Gaussian))"
      ],
      "execution_count": 19,
      "outputs": [
        {
          "output_type": "stream",
          "text": [
            "[[26  0  0  0  0  0  0  0  0 11]\n",
            " [ 0 15  0  0  0  0  0  0  0 19]\n",
            " [ 0  0 12  0  0  0  0  0  0 25]\n",
            " [ 0  0  0 10  0  0  0  0  0 38]\n",
            " [ 0  0  0  0 20  0  0  0  0  7]\n",
            " [ 0  0  0  0  0 32  0  0  0  3]\n",
            " [ 0  0  0  0  0  0 24  0  0 13]\n",
            " [ 0  0  0  0  0  0  0 11  0 31]\n",
            " [ 0  0  0  0  0  0  0  0  7 25]\n",
            " [ 0  0  0  0  0  0  0  0  0 31]]\n"
          ],
          "name": "stdout"
        }
      ]
    },
    {
      "metadata": {
        "id": "f3LgAt03aPtY",
        "colab_type": "code",
        "colab": {
          "base_uri": "https://localhost:8080/",
          "height": 34
        },
        "outputId": "03d2da46-046b-4f25-d18f-6670a781783e"
      },
      "cell_type": "code",
      "source": [
        "print(r2_score(test_y, prediction_Gaussian))"
      ],
      "execution_count": 20,
      "outputs": [
        {
          "output_type": "stream",
          "text": [
            "-0.799993062273801\n"
          ],
          "name": "stdout"
        }
      ]
    },
    {
      "metadata": {
        "id": "U96yqeR3aSPE",
        "colab_type": "code",
        "colab": {
          "base_uri": "https://localhost:8080/",
          "height": 272
        },
        "outputId": "eb834547-36ea-492a-96a5-4962f6687b45"
      },
      "cell_type": "code",
      "source": [
        "print(classification_report(test_y, prediction_Gaussian))"
      ],
      "execution_count": 21,
      "outputs": [
        {
          "output_type": "stream",
          "text": [
            "             precision    recall  f1-score   support\n",
            "\n",
            "          0       1.00      0.70      0.83        37\n",
            "          1       1.00      0.44      0.61        34\n",
            "          2       1.00      0.32      0.49        37\n",
            "          3       1.00      0.21      0.34        48\n",
            "          4       1.00      0.74      0.85        27\n",
            "          5       1.00      0.91      0.96        35\n",
            "          6       1.00      0.65      0.79        37\n",
            "          7       1.00      0.26      0.42        42\n",
            "          8       1.00      0.22      0.36        32\n",
            "          9       0.15      1.00      0.26        31\n",
            "\n",
            "avg / total       0.93      0.52      0.58       360\n",
            "\n"
          ],
          "name": "stdout"
        }
      ]
    },
    {
      "metadata": {
        "id": "WdJHTIDwaUkB",
        "colab_type": "code",
        "colab": {
          "base_uri": "https://localhost:8080/",
          "height": 85
        },
        "outputId": "00b6de8d-680c-4e5b-d9ea-36252d92e7a3"
      },
      "cell_type": "code",
      "source": [
        "model_Sigmoid = SVC(kernel = 'sigmoid', degree = 8)\n",
        "model_Sigmoid.fit(train_x,train_y)"
      ],
      "execution_count": 22,
      "outputs": [
        {
          "output_type": "execute_result",
          "data": {
            "text/plain": [
              "SVC(C=1.0, cache_size=200, class_weight=None, coef0=0.0,\n",
              "  decision_function_shape='ovr', degree=8, gamma='auto', kernel='sigmoid',\n",
              "  max_iter=-1, probability=False, random_state=None, shrinking=True,\n",
              "  tol=0.001, verbose=False)"
            ]
          },
          "metadata": {
            "tags": []
          },
          "execution_count": 22
        }
      ]
    },
    {
      "metadata": {
        "id": "UYoubzV6aZdc",
        "colab_type": "code",
        "colab": {
          "base_uri": "https://localhost:8080/",
          "height": 1105
        },
        "outputId": "df2890dd-5f9c-477c-ed6a-08159f387449"
      },
      "cell_type": "code",
      "source": [
        "prediction_Sigmoid=model_Sigmoid.predict(test_x)\n",
        "\n",
        "results_Sigmoid=pd.DataFrame({'Prediction':prediction_Sigmoid,'Actual':test_y})\n",
        "print(results_Sigmoid)"
      ],
      "execution_count": 23,
      "outputs": [
        {
          "output_type": "stream",
          "text": [
            "     Actual  Prediction\n",
            "0         3           4\n",
            "1         5           4\n",
            "2         2           4\n",
            "3         4           4\n",
            "4         3           4\n",
            "5         9           4\n",
            "6         6           4\n",
            "7         9           4\n",
            "8         5           4\n",
            "9         9           4\n",
            "10        1           4\n",
            "11        1           4\n",
            "12        2           4\n",
            "13        4           4\n",
            "14        2           4\n",
            "15        3           4\n",
            "16        7           4\n",
            "17        3           4\n",
            "18        2           4\n",
            "19        0           4\n",
            "20        4           4\n",
            "21        0           4\n",
            "22        3           4\n",
            "23        2           4\n",
            "24        2           4\n",
            "25        9           4\n",
            "26        3           4\n",
            "27        9           4\n",
            "28        8           4\n",
            "29        6           4\n",
            "..      ...         ...\n",
            "330       3           4\n",
            "331       8           4\n",
            "332       5           4\n",
            "333       0           4\n",
            "334       6           4\n",
            "335       6           4\n",
            "336       6           4\n",
            "337       7           4\n",
            "338       3           4\n",
            "339       5           4\n",
            "340       9           4\n",
            "341       1           4\n",
            "342       8           4\n",
            "343       6           4\n",
            "344       3           4\n",
            "345       3           4\n",
            "346       7           4\n",
            "347       7           4\n",
            "348       9           4\n",
            "349       7           4\n",
            "350       1           4\n",
            "351       2           4\n",
            "352       4           4\n",
            "353       6           4\n",
            "354       3           4\n",
            "355       1           4\n",
            "356       0           4\n",
            "357       2           4\n",
            "358       0           4\n",
            "359       2           4\n",
            "\n",
            "[360 rows x 2 columns]\n"
          ],
          "name": "stdout"
        }
      ]
    },
    {
      "metadata": {
        "id": "vtd9Zo_Xab2x",
        "colab_type": "code",
        "colab": {
          "base_uri": "https://localhost:8080/",
          "height": 187
        },
        "outputId": "44787c9b-dbb4-44d0-add0-436899cf50e4"
      },
      "cell_type": "code",
      "source": [
        "print(confusion_matrix(test_y,prediction_Sigmoid))"
      ],
      "execution_count": 24,
      "outputs": [
        {
          "output_type": "stream",
          "text": [
            "[[ 0  0  0  0 37  0  0  0  0  0]\n",
            " [ 0  0  0  0 34  0  0  0  0  0]\n",
            " [ 0  0  0  0 37  0  0  0  0  0]\n",
            " [ 0  0  0  0 48  0  0  0  0  0]\n",
            " [ 0  0  0  0 27  0  0  0  0  0]\n",
            " [ 0  0  0  0 35  0  0  0  0  0]\n",
            " [ 0  0  0  0 37  0  0  0  0  0]\n",
            " [ 0  0  0  0 42  0  0  0  0  0]\n",
            " [ 0  0  0  0 32  0  0  0  0  0]\n",
            " [ 0  0  0  0 31  0  0  0  0  0]]\n"
          ],
          "name": "stdout"
        }
      ]
    },
    {
      "metadata": {
        "id": "xMEtNfhzagJF",
        "colab_type": "code",
        "colab": {
          "base_uri": "https://localhost:8080/",
          "height": 34
        },
        "outputId": "0ec90ed9-fedf-4cac-869f-6490272d4d13"
      },
      "cell_type": "code",
      "source": [
        "print(r2_score(test_y, prediction_Sigmoid))"
      ],
      "execution_count": 25,
      "outputs": [
        {
          "output_type": "stream",
          "text": [
            "-0.020539523840725105\n"
          ],
          "name": "stdout"
        }
      ]
    },
    {
      "metadata": {
        "id": "8yLS4qxHajAA",
        "colab_type": "code",
        "colab": {
          "base_uri": "https://localhost:8080/",
          "height": 326
        },
        "outputId": "03648a22-00ae-4e0d-a441-e5a6676cd683"
      },
      "cell_type": "code",
      "source": [
        "print(classification_report(test_y, prediction_Sigmoid))"
      ],
      "execution_count": 26,
      "outputs": [
        {
          "output_type": "stream",
          "text": [
            "             precision    recall  f1-score   support\n",
            "\n",
            "          0       0.00      0.00      0.00        37\n",
            "          1       0.00      0.00      0.00        34\n",
            "          2       0.00      0.00      0.00        37\n",
            "          3       0.00      0.00      0.00        48\n",
            "          4       0.07      1.00      0.14        27\n",
            "          5       0.00      0.00      0.00        35\n",
            "          6       0.00      0.00      0.00        37\n",
            "          7       0.00      0.00      0.00        42\n",
            "          8       0.00      0.00      0.00        32\n",
            "          9       0.00      0.00      0.00        31\n",
            "\n",
            "avg / total       0.01      0.07      0.01       360\n",
            "\n"
          ],
          "name": "stdout"
        },
        {
          "output_type": "stream",
          "text": [
            "/usr/local/lib/python3.6/dist-packages/sklearn/metrics/classification.py:1135: UndefinedMetricWarning: Precision and F-score are ill-defined and being set to 0.0 in labels with no predicted samples.\n",
            "  'precision', 'predicted', average, warn_for)\n"
          ],
          "name": "stderr"
        }
      ]
    },
    {
      "metadata": {
        "id": "lnCBHha2alnM",
        "colab_type": "code",
        "colab": {}
      },
      "cell_type": "code",
      "source": [
        ""
      ],
      "execution_count": 0,
      "outputs": []
    }
  ]
}