{
  "nbformat": 4,
  "nbformat_minor": 0,
  "metadata": {
    "colab": {
      "name": "DecisionTree and RandomForest.ipynb",
      "version": "0.3.2",
      "provenance": []
    },
    "kernelspec": {
      "name": "python3",
      "display_name": "Python 3"
    }
  },
  "cells": [
    {
      "cell_type": "markdown",
      "metadata": {
        "id": "view-in-github",
        "colab_type": "text"
      },
      "source": [
        "[View in Colaboratory](https://colab.research.google.com/github/DeepankJain/Asssignment/blob/master/DecisionTree_and_RandomForest.ipynb)"
      ]
    },
    {
      "metadata": {
        "id": "M6eCtsF3Ionz",
        "colab_type": "code",
        "colab": {}
      },
      "cell_type": "code",
      "source": [
        "#Question no. 1\n",
        "#importing libraries\n",
        "import pandas as pd\n",
        "import numpy as np\n",
        "import seaborn as sns\n",
        "import matplotlib.pyplot as plt\n",
        "%matplotlib inline"
      ],
      "execution_count": 0,
      "outputs": []
    },
    {
      "metadata": {
        "id": "PzlOaEjPJA8Z",
        "colab_type": "code",
        "colab": {
          "base_uri": "https://localhost:8080/",
          "height": 204
        },
        "outputId": "6ed2159c-d3e7-419b-befd-cdc3c5635286"
      },
      "cell_type": "code",
      "source": [
        "df = pd.read_csv('https://archive.ics.uci.edu/ml/machine-learning-databases/balance-scale/balance-scale.data')\n",
        "df.head()"
      ],
      "execution_count": 3,
      "outputs": [
        {
          "output_type": "execute_result",
          "data": {
            "text/html": [
              "<div>\n",
              "<style scoped>\n",
              "    .dataframe tbody tr th:only-of-type {\n",
              "        vertical-align: middle;\n",
              "    }\n",
              "\n",
              "    .dataframe tbody tr th {\n",
              "        vertical-align: top;\n",
              "    }\n",
              "\n",
              "    .dataframe thead th {\n",
              "        text-align: right;\n",
              "    }\n",
              "</style>\n",
              "<table border=\"1\" class=\"dataframe\">\n",
              "  <thead>\n",
              "    <tr style=\"text-align: right;\">\n",
              "      <th></th>\n",
              "      <th>B</th>\n",
              "      <th>1</th>\n",
              "      <th>1.1</th>\n",
              "      <th>1.2</th>\n",
              "      <th>1.3</th>\n",
              "    </tr>\n",
              "  </thead>\n",
              "  <tbody>\n",
              "    <tr>\n",
              "      <th>0</th>\n",
              "      <td>R</td>\n",
              "      <td>1</td>\n",
              "      <td>1</td>\n",
              "      <td>1</td>\n",
              "      <td>2</td>\n",
              "    </tr>\n",
              "    <tr>\n",
              "      <th>1</th>\n",
              "      <td>R</td>\n",
              "      <td>1</td>\n",
              "      <td>1</td>\n",
              "      <td>1</td>\n",
              "      <td>3</td>\n",
              "    </tr>\n",
              "    <tr>\n",
              "      <th>2</th>\n",
              "      <td>R</td>\n",
              "      <td>1</td>\n",
              "      <td>1</td>\n",
              "      <td>1</td>\n",
              "      <td>4</td>\n",
              "    </tr>\n",
              "    <tr>\n",
              "      <th>3</th>\n",
              "      <td>R</td>\n",
              "      <td>1</td>\n",
              "      <td>1</td>\n",
              "      <td>1</td>\n",
              "      <td>5</td>\n",
              "    </tr>\n",
              "    <tr>\n",
              "      <th>4</th>\n",
              "      <td>R</td>\n",
              "      <td>1</td>\n",
              "      <td>1</td>\n",
              "      <td>2</td>\n",
              "      <td>1</td>\n",
              "    </tr>\n",
              "  </tbody>\n",
              "</table>\n",
              "</div>"
            ],
            "text/plain": [
              "   B  1  1.1  1.2  1.3\n",
              "0  R  1    1    1    2\n",
              "1  R  1    1    1    3\n",
              "2  R  1    1    1    4\n",
              "3  R  1    1    1    5\n",
              "4  R  1    1    2    1"
            ]
          },
          "metadata": {
            "tags": []
          },
          "execution_count": 3
        }
      ]
    },
    {
      "metadata": {
        "id": "zS2LtEVCJP8Q",
        "colab_type": "code",
        "colab": {
          "base_uri": "https://localhost:8080/",
          "height": 34
        },
        "outputId": "0d62b222-9c49-4147-8b1f-3254a3901720"
      },
      "cell_type": "code",
      "source": [
        "df.shape"
      ],
      "execution_count": 4,
      "outputs": [
        {
          "output_type": "execute_result",
          "data": {
            "text/plain": [
              "(624, 5)"
            ]
          },
          "metadata": {
            "tags": []
          },
          "execution_count": 4
        }
      ]
    },
    {
      "metadata": {
        "id": "BN0UUEXtJRwC",
        "colab_type": "code",
        "colab": {
          "base_uri": "https://localhost:8080/",
          "height": 119
        },
        "outputId": "e6099762-a15d-44cb-b0af-c43fb6448040"
      },
      "cell_type": "code",
      "source": [
        "#Question no. 2\n",
        "y_Target = df.iloc[:,0]\n",
        "y_Target.head()"
      ],
      "execution_count": 8,
      "outputs": [
        {
          "output_type": "execute_result",
          "data": {
            "text/plain": [
              "0    R\n",
              "1    R\n",
              "2    R\n",
              "3    R\n",
              "4    R\n",
              "Name: B, dtype: object"
            ]
          },
          "metadata": {
            "tags": []
          },
          "execution_count": 8
        }
      ]
    },
    {
      "metadata": {
        "id": "2bp0Ctf_Jhph",
        "colab_type": "code",
        "colab": {
          "base_uri": "https://localhost:8080/",
          "height": 204
        },
        "outputId": "5f837e72-2901-45a7-801b-ec2a6d47986f"
      },
      "cell_type": "code",
      "source": [
        "x_Features = df.iloc[:,1:]\n",
        "x_Features.head()"
      ],
      "execution_count": 9,
      "outputs": [
        {
          "output_type": "execute_result",
          "data": {
            "text/html": [
              "<div>\n",
              "<style scoped>\n",
              "    .dataframe tbody tr th:only-of-type {\n",
              "        vertical-align: middle;\n",
              "    }\n",
              "\n",
              "    .dataframe tbody tr th {\n",
              "        vertical-align: top;\n",
              "    }\n",
              "\n",
              "    .dataframe thead th {\n",
              "        text-align: right;\n",
              "    }\n",
              "</style>\n",
              "<table border=\"1\" class=\"dataframe\">\n",
              "  <thead>\n",
              "    <tr style=\"text-align: right;\">\n",
              "      <th></th>\n",
              "      <th>1</th>\n",
              "      <th>1.1</th>\n",
              "      <th>1.2</th>\n",
              "      <th>1.3</th>\n",
              "    </tr>\n",
              "  </thead>\n",
              "  <tbody>\n",
              "    <tr>\n",
              "      <th>0</th>\n",
              "      <td>1</td>\n",
              "      <td>1</td>\n",
              "      <td>1</td>\n",
              "      <td>2</td>\n",
              "    </tr>\n",
              "    <tr>\n",
              "      <th>1</th>\n",
              "      <td>1</td>\n",
              "      <td>1</td>\n",
              "      <td>1</td>\n",
              "      <td>3</td>\n",
              "    </tr>\n",
              "    <tr>\n",
              "      <th>2</th>\n",
              "      <td>1</td>\n",
              "      <td>1</td>\n",
              "      <td>1</td>\n",
              "      <td>4</td>\n",
              "    </tr>\n",
              "    <tr>\n",
              "      <th>3</th>\n",
              "      <td>1</td>\n",
              "      <td>1</td>\n",
              "      <td>1</td>\n",
              "      <td>5</td>\n",
              "    </tr>\n",
              "    <tr>\n",
              "      <th>4</th>\n",
              "      <td>1</td>\n",
              "      <td>1</td>\n",
              "      <td>2</td>\n",
              "      <td>1</td>\n",
              "    </tr>\n",
              "  </tbody>\n",
              "</table>\n",
              "</div>"
            ],
            "text/plain": [
              "   1  1.1  1.2  1.3\n",
              "0  1    1    1    2\n",
              "1  1    1    1    3\n",
              "2  1    1    1    4\n",
              "3  1    1    1    5\n",
              "4  1    1    2    1"
            ]
          },
          "metadata": {
            "tags": []
          },
          "execution_count": 9
        }
      ]
    },
    {
      "metadata": {
        "id": "_cRuJTJ_KDor",
        "colab_type": "code",
        "colab": {}
      },
      "cell_type": "code",
      "source": [
        "#Question no. 3\n",
        "from sklearn.model_selection import train_test_split as tts\n",
        "X_train, X_test, y_train, y_test = tts(x_Features, y_Target, test_size = 0.3)"
      ],
      "execution_count": 0,
      "outputs": []
    },
    {
      "metadata": {
        "id": "Pm9PkwkCKZ-v",
        "colab_type": "code",
        "colab": {
          "base_uri": "https://localhost:8080/",
          "height": 119
        },
        "outputId": "ce34248e-185b-4dfd-8af1-df4aea5a7a57"
      },
      "cell_type": "code",
      "source": [
        "from sklearn.tree import DecisionTreeClassifier\n",
        "model = DecisionTreeClassifier()\n",
        "model.fit(X_train, y_train)"
      ],
      "execution_count": 12,
      "outputs": [
        {
          "output_type": "execute_result",
          "data": {
            "text/plain": [
              "DecisionTreeClassifier(class_weight=None, criterion='gini', max_depth=None,\n",
              "            max_features=None, max_leaf_nodes=None,\n",
              "            min_impurity_decrease=0.0, min_impurity_split=None,\n",
              "            min_samples_leaf=1, min_samples_split=2,\n",
              "            min_weight_fraction_leaf=0.0, presort=False, random_state=None,\n",
              "            splitter='best')"
            ]
          },
          "metadata": {
            "tags": []
          },
          "execution_count": 12
        }
      ]
    },
    {
      "metadata": {
        "id": "pPMQy3PRKjvI",
        "colab_type": "code",
        "colab": {}
      },
      "cell_type": "code",
      "source": [
        "pred_y = model.predict(X_test)"
      ],
      "execution_count": 0,
      "outputs": []
    },
    {
      "metadata": {
        "id": "Fxqdu03NKoEi",
        "colab_type": "code",
        "colab": {
          "base_uri": "https://localhost:8080/",
          "height": 1105
        },
        "outputId": "9768d25f-80ba-4087-8c10-128add0df402"
      },
      "cell_type": "code",
      "source": [
        "result = pd.DataFrame({'Actual': y_test, 'Predicted':pred_y})\n",
        "print(result)"
      ],
      "execution_count": 14,
      "outputs": [
        {
          "output_type": "stream",
          "text": [
            "    Actual Predicted\n",
            "446      R         B\n",
            "496      L         L\n",
            "215      B         L\n",
            "212      R         R\n",
            "479      L         L\n",
            "501      L         L\n",
            "163      R         R\n",
            "77       B         L\n",
            "526      L         L\n",
            "145      R         R\n",
            "265      R         R\n",
            "31       R         R\n",
            "55       R         L\n",
            "90       R         R\n",
            "556      L         L\n",
            "76       L         L\n",
            "2        R         R\n",
            "367      R         R\n",
            "395      R         R\n",
            "334      L         L\n",
            "131      R         R\n",
            "148      R         R\n",
            "49       L         L\n",
            "620      L         L\n",
            "316      R         B\n",
            "110      R         R\n",
            "257      R         R\n",
            "577      L         L\n",
            "619      L         L\n",
            "256      R         R\n",
            "..     ...       ...\n",
            "165      R         R\n",
            "465      L         L\n",
            "335      L         L\n",
            "213      R         R\n",
            "137      R         R\n",
            "399      L         L\n",
            "605      L         L\n",
            "176      L         L\n",
            "9        R         R\n",
            "495      L         L\n",
            "238      R         R\n",
            "322      R         R\n",
            "609      L         L\n",
            "268      R         R\n",
            "84       L         B\n",
            "290      R         B\n",
            "311      B         L\n",
            "319      L         L\n",
            "416      R         R\n",
            "490      L         L\n",
            "247      R         R\n",
            "505      L         B\n",
            "298      R         R\n",
            "153      R         B\n",
            "75       L         L\n",
            "92       R         R\n",
            "320      R         L\n",
            "68       R         R\n",
            "15       R         R\n",
            "507      R         R\n",
            "\n",
            "[188 rows x 2 columns]\n"
          ],
          "name": "stdout"
        }
      ]
    },
    {
      "metadata": {
        "id": "znf0bnf6Kr3T",
        "colab_type": "code",
        "colab": {
          "base_uri": "https://localhost:8080/",
          "height": 34
        },
        "outputId": "2be25da0-15bd-412c-ae83-0a35bfd54c7e"
      },
      "cell_type": "code",
      "source": [
        "#Question no. 4\n",
        "from sklearn.metrics import accuracy_score\n",
        "accuracy_score(y_test,pred_y)"
      ],
      "execution_count": 15,
      "outputs": [
        {
          "output_type": "execute_result",
          "data": {
            "text/plain": [
              "0.8031914893617021"
            ]
          },
          "metadata": {
            "tags": []
          },
          "execution_count": 15
        }
      ]
    },
    {
      "metadata": {
        "id": "oUiJrDYjLNAP",
        "colab_type": "code",
        "colab": {
          "base_uri": "https://localhost:8080/",
          "height": 136
        },
        "outputId": "9c6ff130-06ad-40d4-d653-ac863258289d"
      },
      "cell_type": "code",
      "source": [
        "#Question no. 5\n",
        "from sklearn.ensemble import RandomForestClassifier\n",
        "model = RandomForestClassifier()\n",
        "model.fit(X_train,y_train)\n"
      ],
      "execution_count": 19,
      "outputs": [
        {
          "output_type": "execute_result",
          "data": {
            "text/plain": [
              "RandomForestClassifier(bootstrap=True, class_weight=None, criterion='gini',\n",
              "            max_depth=None, max_features='auto', max_leaf_nodes=None,\n",
              "            min_impurity_decrease=0.0, min_impurity_split=None,\n",
              "            min_samples_leaf=1, min_samples_split=2,\n",
              "            min_weight_fraction_leaf=0.0, n_estimators=10, n_jobs=1,\n",
              "            oob_score=False, random_state=None, verbose=0,\n",
              "            warm_start=False)"
            ]
          },
          "metadata": {
            "tags": []
          },
          "execution_count": 19
        }
      ]
    },
    {
      "metadata": {
        "id": "zcRCSFhVN78q",
        "colab_type": "code",
        "colab": {}
      },
      "cell_type": "code",
      "source": [
        "pred_y = model.predict(X_test)"
      ],
      "execution_count": 0,
      "outputs": []
    },
    {
      "metadata": {
        "id": "aPms48dKOOuN",
        "colab_type": "code",
        "colab": {
          "base_uri": "https://localhost:8080/",
          "height": 1105
        },
        "outputId": "75c1fe78-0bc6-4279-d1d7-6a6681a80a8a"
      },
      "cell_type": "code",
      "source": [
        "result = pd.DataFrame({'Actual':y_test,'Predicted':pred_y})\n",
        "print(result)"
      ],
      "execution_count": 21,
      "outputs": [
        {
          "output_type": "stream",
          "text": [
            "    Actual Predicted\n",
            "502      L         L\n",
            "143      R         R\n",
            "314      L         L\n",
            "600      L         L\n",
            "595      L         L\n",
            "50       L         B\n",
            "300      L         L\n",
            "511      R         R\n",
            "357      L         L\n",
            "500      L         L\n",
            "305      L         L\n",
            "593      B         L\n",
            "204      L         L\n",
            "520      R         B\n",
            "141      R         R\n",
            "564      L         L\n",
            "166      R         R\n",
            "410      L         L\n",
            "346      R         B\n",
            "123      R         R\n",
            "237      R         L\n",
            "320      R         L\n",
            "259      B         R\n",
            "454      L         L\n",
            "382      R         R\n",
            "538      R         R\n",
            "566      L         L\n",
            "226      L         L\n",
            "318      R         R\n",
            "188      R         R\n",
            "..     ...       ...\n",
            "532      L         B\n",
            "5        R         R\n",
            "360      L         L\n",
            "87       R         R\n",
            "74       L         L\n",
            "130      R         R\n",
            "436      L         B\n",
            "606      L         L\n",
            "594      L         L\n",
            "51       B         R\n",
            "468      R         B\n",
            "334      L         L\n",
            "116      R         R\n",
            "0        R         B\n",
            "324      L         L\n",
            "178      L         L\n",
            "342      R         R\n",
            "571      B         R\n",
            "279      L         L\n",
            "378      R         B\n",
            "390      R         R\n",
            "613      L         L\n",
            "283      R         R\n",
            "612      L         L\n",
            "199      L         L\n",
            "89       B         L\n",
            "125      B         L\n",
            "31       R         R\n",
            "523      R         R\n",
            "444      L         L\n",
            "\n",
            "[188 rows x 2 columns]\n"
          ],
          "name": "stdout"
        }
      ]
    },
    {
      "metadata": {
        "id": "S_ITrOi2Oj4T",
        "colab_type": "code",
        "colab": {
          "base_uri": "https://localhost:8080/",
          "height": 34
        },
        "outputId": "18396c79-8ad1-499a-f682-1c8912d35705"
      },
      "cell_type": "code",
      "source": [
        "from sklearn.metrics import accuracy_score\n",
        "accuracy_score(y_test,pred_y)"
      ],
      "execution_count": 24,
      "outputs": [
        {
          "output_type": "execute_result",
          "data": {
            "text/plain": [
              "0.7978723404255319"
            ]
          },
          "metadata": {
            "tags": []
          },
          "execution_count": 24
        }
      ]
    },
    {
      "metadata": {
        "id": "jHuaV87LO9R-",
        "colab_type": "code",
        "colab": {}
      },
      "cell_type": "code",
      "source": [
        ""
      ],
      "execution_count": 0,
      "outputs": []
    }
  ]
}