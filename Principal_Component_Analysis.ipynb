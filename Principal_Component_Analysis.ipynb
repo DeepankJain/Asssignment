{
  "nbformat": 4,
  "nbformat_minor": 0,
  "metadata": {
    "colab": {
      "name": "Principal Component Analysis.ipynb",
      "version": "0.3.2",
      "provenance": [],
      "include_colab_link": true
    },
    "kernelspec": {
      "name": "python3",
      "display_name": "Python 3"
    }
  },
  "cells": [
    {
      "cell_type": "markdown",
      "metadata": {
        "id": "view-in-github",
        "colab_type": "text"
      },
      "source": [
        "[View in Colaboratory](https://colab.research.google.com/github/DeepankJain/Asssignment/blob/master/Principal_Component_Analysis.ipynb)"
      ]
    },
    {
      "metadata": {
        "id": "xEFEVvoKbNcV",
        "colab_type": "code",
        "colab": {}
      },
      "cell_type": "code",
      "source": [
        "import numpy as np \n",
        "import pandas as pd\n",
        "import matplotlib.pyplot as plt\n",
        "import seaborn as sb\n",
        "%matplotlib inline"
      ],
      "execution_count": 0,
      "outputs": []
    },
    {
      "metadata": {
        "id": "8c_mhyYPbUK0",
        "colab_type": "code",
        "colab": {
          "base_uri": "https://localhost:8080/",
          "height": 204
        },
        "outputId": "ff5b79bb-6da3-4449-8853-29e1082a7ca2"
      },
      "cell_type": "code",
      "source": [
        "data=pd.read_csv('https://archive.ics.uci.edu/ml/machine-learning-databases/balance-scale/balance-scale.data')\n",
        "data.head()"
      ],
      "execution_count": 2,
      "outputs": [
        {
          "output_type": "execute_result",
          "data": {
            "text/html": [
              "<div>\n",
              "<style scoped>\n",
              "    .dataframe tbody tr th:only-of-type {\n",
              "        vertical-align: middle;\n",
              "    }\n",
              "\n",
              "    .dataframe tbody tr th {\n",
              "        vertical-align: top;\n",
              "    }\n",
              "\n",
              "    .dataframe thead th {\n",
              "        text-align: right;\n",
              "    }\n",
              "</style>\n",
              "<table border=\"1\" class=\"dataframe\">\n",
              "  <thead>\n",
              "    <tr style=\"text-align: right;\">\n",
              "      <th></th>\n",
              "      <th>B</th>\n",
              "      <th>1</th>\n",
              "      <th>1.1</th>\n",
              "      <th>1.2</th>\n",
              "      <th>1.3</th>\n",
              "    </tr>\n",
              "  </thead>\n",
              "  <tbody>\n",
              "    <tr>\n",
              "      <th>0</th>\n",
              "      <td>R</td>\n",
              "      <td>1</td>\n",
              "      <td>1</td>\n",
              "      <td>1</td>\n",
              "      <td>2</td>\n",
              "    </tr>\n",
              "    <tr>\n",
              "      <th>1</th>\n",
              "      <td>R</td>\n",
              "      <td>1</td>\n",
              "      <td>1</td>\n",
              "      <td>1</td>\n",
              "      <td>3</td>\n",
              "    </tr>\n",
              "    <tr>\n",
              "      <th>2</th>\n",
              "      <td>R</td>\n",
              "      <td>1</td>\n",
              "      <td>1</td>\n",
              "      <td>1</td>\n",
              "      <td>4</td>\n",
              "    </tr>\n",
              "    <tr>\n",
              "      <th>3</th>\n",
              "      <td>R</td>\n",
              "      <td>1</td>\n",
              "      <td>1</td>\n",
              "      <td>1</td>\n",
              "      <td>5</td>\n",
              "    </tr>\n",
              "    <tr>\n",
              "      <th>4</th>\n",
              "      <td>R</td>\n",
              "      <td>1</td>\n",
              "      <td>1</td>\n",
              "      <td>2</td>\n",
              "      <td>1</td>\n",
              "    </tr>\n",
              "  </tbody>\n",
              "</table>\n",
              "</div>"
            ],
            "text/plain": [
              "   B  1  1.1  1.2  1.3\n",
              "0  R  1    1    1    2\n",
              "1  R  1    1    1    3\n",
              "2  R  1    1    1    4\n",
              "3  R  1    1    1    5\n",
              "4  R  1    1    2    1"
            ]
          },
          "metadata": {
            "tags": []
          },
          "execution_count": 2
        }
      ]
    },
    {
      "metadata": {
        "id": "2wFA1EHybWxM",
        "colab_type": "code",
        "colab": {
          "base_uri": "https://localhost:8080/",
          "height": 34
        },
        "outputId": "aaa56bf7-1f11-443e-ed4b-f946b16903fd"
      },
      "cell_type": "code",
      "source": [
        "data.shape"
      ],
      "execution_count": 3,
      "outputs": [
        {
          "output_type": "execute_result",
          "data": {
            "text/plain": [
              "(624, 5)"
            ]
          },
          "metadata": {
            "tags": []
          },
          "execution_count": 3
        }
      ]
    },
    {
      "metadata": {
        "id": "HumaifJrbaNe",
        "colab_type": "code",
        "colab": {
          "base_uri": "https://localhost:8080/",
          "height": 34
        },
        "outputId": "9466d8c4-092b-48f2-8e32-ff47f49c2bf2"
      },
      "cell_type": "code",
      "source": [
        "data.columns"
      ],
      "execution_count": 4,
      "outputs": [
        {
          "output_type": "execute_result",
          "data": {
            "text/plain": [
              "Index(['B', '1', '1.1', '1.2', '1.3'], dtype='object')"
            ]
          },
          "metadata": {
            "tags": []
          },
          "execution_count": 4
        }
      ]
    },
    {
      "metadata": {
        "id": "Be7hgwEWbco2",
        "colab_type": "code",
        "colab": {}
      },
      "cell_type": "code",
      "source": [
        "y_target=data['B']"
      ],
      "execution_count": 0,
      "outputs": []
    },
    {
      "metadata": {
        "id": "mO3KB4Jsbetd",
        "colab_type": "code",
        "colab": {}
      },
      "cell_type": "code",
      "source": [
        "x_features=data.loc[:,data.columns!='B']"
      ],
      "execution_count": 0,
      "outputs": []
    },
    {
      "metadata": {
        "id": "I0jJ9w1Lbhyx",
        "colab_type": "code",
        "colab": {
          "base_uri": "https://localhost:8080/",
          "height": 204
        },
        "outputId": "89b05191-ba2a-4948-990f-04fdaf121fcd"
      },
      "cell_type": "code",
      "source": [
        "x_features.head()"
      ],
      "execution_count": 7,
      "outputs": [
        {
          "output_type": "execute_result",
          "data": {
            "text/html": [
              "<div>\n",
              "<style scoped>\n",
              "    .dataframe tbody tr th:only-of-type {\n",
              "        vertical-align: middle;\n",
              "    }\n",
              "\n",
              "    .dataframe tbody tr th {\n",
              "        vertical-align: top;\n",
              "    }\n",
              "\n",
              "    .dataframe thead th {\n",
              "        text-align: right;\n",
              "    }\n",
              "</style>\n",
              "<table border=\"1\" class=\"dataframe\">\n",
              "  <thead>\n",
              "    <tr style=\"text-align: right;\">\n",
              "      <th></th>\n",
              "      <th>1</th>\n",
              "      <th>1.1</th>\n",
              "      <th>1.2</th>\n",
              "      <th>1.3</th>\n",
              "    </tr>\n",
              "  </thead>\n",
              "  <tbody>\n",
              "    <tr>\n",
              "      <th>0</th>\n",
              "      <td>1</td>\n",
              "      <td>1</td>\n",
              "      <td>1</td>\n",
              "      <td>2</td>\n",
              "    </tr>\n",
              "    <tr>\n",
              "      <th>1</th>\n",
              "      <td>1</td>\n",
              "      <td>1</td>\n",
              "      <td>1</td>\n",
              "      <td>3</td>\n",
              "    </tr>\n",
              "    <tr>\n",
              "      <th>2</th>\n",
              "      <td>1</td>\n",
              "      <td>1</td>\n",
              "      <td>1</td>\n",
              "      <td>4</td>\n",
              "    </tr>\n",
              "    <tr>\n",
              "      <th>3</th>\n",
              "      <td>1</td>\n",
              "      <td>1</td>\n",
              "      <td>1</td>\n",
              "      <td>5</td>\n",
              "    </tr>\n",
              "    <tr>\n",
              "      <th>4</th>\n",
              "      <td>1</td>\n",
              "      <td>1</td>\n",
              "      <td>2</td>\n",
              "      <td>1</td>\n",
              "    </tr>\n",
              "  </tbody>\n",
              "</table>\n",
              "</div>"
            ],
            "text/plain": [
              "   1  1.1  1.2  1.3\n",
              "0  1    1    1    2\n",
              "1  1    1    1    3\n",
              "2  1    1    1    4\n",
              "3  1    1    1    5\n",
              "4  1    1    2    1"
            ]
          },
          "metadata": {
            "tags": []
          },
          "execution_count": 7
        }
      ]
    },
    {
      "metadata": {
        "id": "pyk0qNpfbkHZ",
        "colab_type": "code",
        "colab": {
          "base_uri": "https://localhost:8080/",
          "height": 119
        },
        "outputId": "65ca7ae5-238a-4445-cc87-1dcf43531154"
      },
      "cell_type": "code",
      "source": [
        "y_target.head()"
      ],
      "execution_count": 8,
      "outputs": [
        {
          "output_type": "execute_result",
          "data": {
            "text/plain": [
              "0    R\n",
              "1    R\n",
              "2    R\n",
              "3    R\n",
              "4    R\n",
              "Name: B, dtype: object"
            ]
          },
          "metadata": {
            "tags": []
          },
          "execution_count": 8
        }
      ]
    },
    {
      "metadata": {
        "id": "_Zp_QFEUbndj",
        "colab_type": "code",
        "colab": {}
      },
      "cell_type": "code",
      "source": [
        "from sklearn.model_selection import train_test_split as tts\n",
        "train_fit,train_check,test_fit,test_check = tts(x_features,y_target, test_size = 0.2)"
      ],
      "execution_count": 0,
      "outputs": []
    },
    {
      "metadata": {
        "id": "emk3YUctbqgc",
        "colab_type": "code",
        "colab": {}
      },
      "cell_type": "code",
      "source": [
        "from sklearn.metrics import accuracy_score"
      ],
      "execution_count": 0,
      "outputs": []
    },
    {
      "metadata": {
        "id": "WOd31-RSbsum",
        "colab_type": "code",
        "colab": {
          "base_uri": "https://localhost:8080/",
          "height": 119
        },
        "outputId": "e38cbd13-96ce-4041-89bd-973961efee3d"
      },
      "cell_type": "code",
      "source": [
        "from sklearn.tree import DecisionTreeClassifier\n",
        "model_D_gini = DecisionTreeClassifier()\n",
        "model_D_gini.fit(train_fit, test_fit)"
      ],
      "execution_count": 11,
      "outputs": [
        {
          "output_type": "execute_result",
          "data": {
            "text/plain": [
              "DecisionTreeClassifier(class_weight=None, criterion='gini', max_depth=None,\n",
              "            max_features=None, max_leaf_nodes=None,\n",
              "            min_impurity_decrease=0.0, min_impurity_split=None,\n",
              "            min_samples_leaf=1, min_samples_split=2,\n",
              "            min_weight_fraction_leaf=0.0, presort=False, random_state=None,\n",
              "            splitter='best')"
            ]
          },
          "metadata": {
            "tags": []
          },
          "execution_count": 11
        }
      ]
    },
    {
      "metadata": {
        "id": "10awGi04bvG3",
        "colab_type": "code",
        "colab": {
          "base_uri": "https://localhost:8080/",
          "height": 1105
        },
        "outputId": "ef2884b0-39df-4cff-e09d-ae9f07a7aa64"
      },
      "cell_type": "code",
      "source": [
        "prediction_D_gini=model_D_gini.predict(train_check)\n",
        "result_D_gini = pd.DataFrame({'Actual': test_check, 'Predicted':prediction_D_gini})\n",
        "print(result_D_gini)"
      ],
      "execution_count": 12,
      "outputs": [
        {
          "output_type": "stream",
          "text": [
            "    Actual Predicted\n",
            "286      R         R\n",
            "379      L         L\n",
            "284      L         L\n",
            "41       R         R\n",
            "235      L         L\n",
            "393      R         R\n",
            "197      R         R\n",
            "25       B         L\n",
            "23       R         R\n",
            "311      B         R\n",
            "88       R         R\n",
            "122      R         R\n",
            "612      L         L\n",
            "367      R         L\n",
            "49       L         L\n",
            "604      L         L\n",
            "136      R         R\n",
            "46       R         R\n",
            "294      L         L\n",
            "463      L         R\n",
            "209      L         L\n",
            "423      R         R\n",
            "503      B         L\n",
            "585      L         L\n",
            "416      R         R\n",
            "256      R         R\n",
            "597      B         L\n",
            "188      R         R\n",
            "530      L         L\n",
            "570      L         B\n",
            "..     ...       ...\n",
            "78       R         R\n",
            "518      R         R\n",
            "138      R         R\n",
            "603      L         L\n",
            "65       R         R\n",
            "77       B         R\n",
            "368      R         B\n",
            "243      R         R\n",
            "246      R         B\n",
            "260      R         R\n",
            "333      L         R\n",
            "152      B         L\n",
            "403      L         L\n",
            "342      R         B\n",
            "268      R         R\n",
            "27       R         R\n",
            "549      L         L\n",
            "106      R         R\n",
            "223      R         R\n",
            "470      L         L\n",
            "440      L         L\n",
            "51       B         R\n",
            "611      L         L\n",
            "517      R         R\n",
            "194      L         L\n",
            "72       R         R\n",
            "588      L         R\n",
            "8        R         R\n",
            "82       R         R\n",
            "493      B         L\n",
            "\n",
            "[125 rows x 2 columns]\n"
          ],
          "name": "stdout"
        }
      ]
    },
    {
      "metadata": {
        "id": "rUswaZyPbyiN",
        "colab_type": "code",
        "colab": {
          "base_uri": "https://localhost:8080/",
          "height": 34
        },
        "outputId": "6c36fd8c-98e3-4dcc-9d4c-f6afeab4e55e"
      },
      "cell_type": "code",
      "source": [
        "print(accuracy_score(test_check, prediction_D_gini))"
      ],
      "execution_count": 13,
      "outputs": [
        {
          "output_type": "stream",
          "text": [
            "0.744\n"
          ],
          "name": "stdout"
        }
      ]
    },
    {
      "metadata": {
        "id": "4sWd3CWZb2pb",
        "colab_type": "code",
        "colab": {
          "base_uri": "https://localhost:8080/",
          "height": 119
        },
        "outputId": "fc0335f0-4526-4a51-9fe4-bc8b683a400b"
      },
      "cell_type": "code",
      "source": [
        "model_D_entropy = DecisionTreeClassifier(criterion='entropy')\n",
        "model_D_entropy.fit(train_fit, test_fit)"
      ],
      "execution_count": 14,
      "outputs": [
        {
          "output_type": "execute_result",
          "data": {
            "text/plain": [
              "DecisionTreeClassifier(class_weight=None, criterion='entropy', max_depth=None,\n",
              "            max_features=None, max_leaf_nodes=None,\n",
              "            min_impurity_decrease=0.0, min_impurity_split=None,\n",
              "            min_samples_leaf=1, min_samples_split=2,\n",
              "            min_weight_fraction_leaf=0.0, presort=False, random_state=None,\n",
              "            splitter='best')"
            ]
          },
          "metadata": {
            "tags": []
          },
          "execution_count": 14
        }
      ]
    },
    {
      "metadata": {
        "id": "U3ch5IWmb52w",
        "colab_type": "code",
        "colab": {
          "base_uri": "https://localhost:8080/",
          "height": 1105
        },
        "outputId": "0249ab7e-a0a6-4024-9c2e-92bad14f237c"
      },
      "cell_type": "code",
      "source": [
        "prediction_D_entropy=model_D_entropy.predict(train_check)\n",
        "result_D_entropy = pd.DataFrame({'Actual': test_check, 'Predicted':prediction_D_entropy})\n",
        "print(result_D_entropy)"
      ],
      "execution_count": 15,
      "outputs": [
        {
          "output_type": "stream",
          "text": [
            "    Actual Predicted\n",
            "286      R         R\n",
            "379      L         L\n",
            "284      L         L\n",
            "41       R         R\n",
            "235      L         L\n",
            "393      R         R\n",
            "197      R         R\n",
            "25       B         R\n",
            "23       R         R\n",
            "311      B         R\n",
            "88       R         R\n",
            "122      R         R\n",
            "612      L         L\n",
            "367      R         L\n",
            "49       L         L\n",
            "604      L         L\n",
            "136      R         R\n",
            "46       R         R\n",
            "294      L         L\n",
            "463      L         R\n",
            "209      L         L\n",
            "423      R         R\n",
            "503      B         L\n",
            "585      L         L\n",
            "416      R         R\n",
            "256      R         R\n",
            "597      B         L\n",
            "188      R         R\n",
            "530      L         L\n",
            "570      L         L\n",
            "..     ...       ...\n",
            "78       R         R\n",
            "518      R         R\n",
            "138      R         R\n",
            "603      L         L\n",
            "65       R         R\n",
            "77       B         R\n",
            "368      R         B\n",
            "243      R         R\n",
            "246      R         R\n",
            "260      R         R\n",
            "333      L         R\n",
            "152      B         R\n",
            "403      L         L\n",
            "342      R         B\n",
            "268      R         R\n",
            "27       R         R\n",
            "549      L         L\n",
            "106      R         R\n",
            "223      R         R\n",
            "470      L         L\n",
            "440      L         L\n",
            "51       B         R\n",
            "611      L         L\n",
            "517      R         R\n",
            "194      L         L\n",
            "72       R         R\n",
            "588      L         R\n",
            "8        R         R\n",
            "82       R         R\n",
            "493      B         L\n",
            "\n",
            "[125 rows x 2 columns]\n"
          ],
          "name": "stdout"
        }
      ]
    },
    {
      "metadata": {
        "id": "hrA4bC5Jb9OC",
        "colab_type": "code",
        "colab": {
          "base_uri": "https://localhost:8080/",
          "height": 34
        },
        "outputId": "eed36a93-7a88-47f3-8262-95f2d1d7a46e"
      },
      "cell_type": "code",
      "source": [
        "print(accuracy_score(test_check, prediction_D_entropy))"
      ],
      "execution_count": 16,
      "outputs": [
        {
          "output_type": "stream",
          "text": [
            "0.76\n"
          ],
          "name": "stdout"
        }
      ]
    },
    {
      "metadata": {
        "id": "rCTUiTcrcAnH",
        "colab_type": "code",
        "colab": {
          "base_uri": "https://localhost:8080/",
          "height": 136
        },
        "outputId": "c4ef570e-f344-4f07-d26b-f0c51f979191"
      },
      "cell_type": "code",
      "source": [
        "from sklearn.ensemble import RandomForestClassifier\n",
        "model_RF_gini = RandomForestClassifier(n_jobs = 2)\n",
        "model_RF_gini.fit(train_fit, test_fit)"
      ],
      "execution_count": 17,
      "outputs": [
        {
          "output_type": "execute_result",
          "data": {
            "text/plain": [
              "RandomForestClassifier(bootstrap=True, class_weight=None, criterion='gini',\n",
              "            max_depth=None, max_features='auto', max_leaf_nodes=None,\n",
              "            min_impurity_decrease=0.0, min_impurity_split=None,\n",
              "            min_samples_leaf=1, min_samples_split=2,\n",
              "            min_weight_fraction_leaf=0.0, n_estimators=10, n_jobs=2,\n",
              "            oob_score=False, random_state=None, verbose=0,\n",
              "            warm_start=False)"
            ]
          },
          "metadata": {
            "tags": []
          },
          "execution_count": 17
        }
      ]
    },
    {
      "metadata": {
        "id": "KEJyHwr9cC6C",
        "colab_type": "code",
        "colab": {
          "base_uri": "https://localhost:8080/",
          "height": 1105
        },
        "outputId": "6a6e3fcd-28df-41bc-dc44-96888e7f8682"
      },
      "cell_type": "code",
      "source": [
        "prediction_RF_gini=model_RF_gini.predict(train_check)\n",
        "result_RF_gini = pd.DataFrame({'Actual': test_check, 'Predicted':prediction_RF_gini})\n",
        "print(result_RF_gini)"
      ],
      "execution_count": 18,
      "outputs": [
        {
          "output_type": "stream",
          "text": [
            "    Actual Predicted\n",
            "286      R         R\n",
            "379      L         L\n",
            "284      L         B\n",
            "41       R         R\n",
            "235      L         L\n",
            "393      R         R\n",
            "197      R         R\n",
            "25       B         R\n",
            "23       R         R\n",
            "311      B         R\n",
            "88       R         R\n",
            "122      R         R\n",
            "612      L         L\n",
            "367      R         L\n",
            "49       L         L\n",
            "604      L         L\n",
            "136      R         R\n",
            "46       R         R\n",
            "294      L         R\n",
            "463      L         L\n",
            "209      L         L\n",
            "423      R         R\n",
            "503      B         R\n",
            "585      L         L\n",
            "416      R         R\n",
            "256      R         R\n",
            "597      B         L\n",
            "188      R         R\n",
            "530      L         L\n",
            "570      L         L\n",
            "..     ...       ...\n",
            "78       R         R\n",
            "518      R         R\n",
            "138      R         R\n",
            "603      L         L\n",
            "65       R         R\n",
            "77       B         R\n",
            "368      R         B\n",
            "243      R         R\n",
            "246      R         R\n",
            "260      R         R\n",
            "333      L         L\n",
            "152      B         L\n",
            "403      L         L\n",
            "342      R         B\n",
            "268      R         R\n",
            "27       R         R\n",
            "549      L         L\n",
            "106      R         L\n",
            "223      R         R\n",
            "470      L         L\n",
            "440      L         L\n",
            "51       B         R\n",
            "611      L         L\n",
            "517      R         R\n",
            "194      L         L\n",
            "72       R         R\n",
            "588      L         R\n",
            "8        R         R\n",
            "82       R         R\n",
            "493      B         L\n",
            "\n",
            "[125 rows x 2 columns]\n"
          ],
          "name": "stdout"
        }
      ]
    },
    {
      "metadata": {
        "id": "OdKH4aJecHTT",
        "colab_type": "code",
        "colab": {
          "base_uri": "https://localhost:8080/",
          "height": 34
        },
        "outputId": "cd47b96b-6b8d-4c91-c16c-a7f96c35cd7c"
      },
      "cell_type": "code",
      "source": [
        "print(accuracy_score(test_check, prediction_RF_gini))"
      ],
      "execution_count": 19,
      "outputs": [
        {
          "output_type": "stream",
          "text": [
            "0.784\n"
          ],
          "name": "stdout"
        }
      ]
    },
    {
      "metadata": {
        "id": "BDdhWDpMcMDh",
        "colab_type": "code",
        "colab": {
          "base_uri": "https://localhost:8080/",
          "height": 136
        },
        "outputId": "f2035324-e6af-4dc0-b6ff-f45381ad9835"
      },
      "cell_type": "code",
      "source": [
        "model_RF_entropy = RandomForestClassifier(criterion='entropy',n_jobs = 2)\n",
        "model_RF_entropy.fit(train_fit, test_fit)"
      ],
      "execution_count": 20,
      "outputs": [
        {
          "output_type": "execute_result",
          "data": {
            "text/plain": [
              "RandomForestClassifier(bootstrap=True, class_weight=None, criterion='entropy',\n",
              "            max_depth=None, max_features='auto', max_leaf_nodes=None,\n",
              "            min_impurity_decrease=0.0, min_impurity_split=None,\n",
              "            min_samples_leaf=1, min_samples_split=2,\n",
              "            min_weight_fraction_leaf=0.0, n_estimators=10, n_jobs=2,\n",
              "            oob_score=False, random_state=None, verbose=0,\n",
              "            warm_start=False)"
            ]
          },
          "metadata": {
            "tags": []
          },
          "execution_count": 20
        }
      ]
    },
    {
      "metadata": {
        "id": "qI2uNg3_cOSZ",
        "colab_type": "code",
        "colab": {
          "base_uri": "https://localhost:8080/",
          "height": 1105
        },
        "outputId": "d3384b89-6907-4292-dbd4-00cff878d982"
      },
      "cell_type": "code",
      "source": [
        "prediction_RF_entropy=model_RF_entropy.predict(train_check)\n",
        "result_RF_entropy = pd.DataFrame({'Actual': test_check, 'Predicted':prediction_RF_entropy})\n",
        "print(result_RF_entropy)"
      ],
      "execution_count": 21,
      "outputs": [
        {
          "output_type": "stream",
          "text": [
            "    Actual Predicted\n",
            "286      R         R\n",
            "379      L         L\n",
            "284      L         L\n",
            "41       R         R\n",
            "235      L         L\n",
            "393      R         R\n",
            "197      R         R\n",
            "25       B         L\n",
            "23       R         R\n",
            "311      B         L\n",
            "88       R         R\n",
            "122      R         R\n",
            "612      L         L\n",
            "367      R         L\n",
            "49       L         L\n",
            "604      L         L\n",
            "136      R         R\n",
            "46       R         R\n",
            "294      L         L\n",
            "463      L         R\n",
            "209      L         L\n",
            "423      R         R\n",
            "503      B         R\n",
            "585      L         L\n",
            "416      R         R\n",
            "256      R         R\n",
            "597      B         L\n",
            "188      R         R\n",
            "530      L         L\n",
            "570      L         L\n",
            "..     ...       ...\n",
            "78       R         R\n",
            "518      R         R\n",
            "138      R         R\n",
            "603      L         L\n",
            "65       R         R\n",
            "77       B         R\n",
            "368      R         R\n",
            "243      R         R\n",
            "246      R         R\n",
            "260      R         R\n",
            "333      L         L\n",
            "152      B         L\n",
            "403      L         L\n",
            "342      R         R\n",
            "268      R         R\n",
            "27       R         R\n",
            "549      L         L\n",
            "106      R         R\n",
            "223      R         R\n",
            "470      L         L\n",
            "440      L         L\n",
            "51       B         R\n",
            "611      L         L\n",
            "517      R         R\n",
            "194      L         L\n",
            "72       R         R\n",
            "588      L         L\n",
            "8        R         R\n",
            "82       R         R\n",
            "493      B         R\n",
            "\n",
            "[125 rows x 2 columns]\n"
          ],
          "name": "stdout"
        }
      ]
    },
    {
      "metadata": {
        "id": "5qeybN1XcRmb",
        "colab_type": "code",
        "colab": {
          "base_uri": "https://localhost:8080/",
          "height": 34
        },
        "outputId": "4f6a4ada-a79a-4b45-b612-c37cfee7f6c1"
      },
      "cell_type": "code",
      "source": [
        "print(accuracy_score(test_check, prediction_RF_entropy))"
      ],
      "execution_count": 22,
      "outputs": [
        {
          "output_type": "stream",
          "text": [
            "0.848\n"
          ],
          "name": "stdout"
        }
      ]
    },
    {
      "metadata": {
        "id": "4_xsL5OTcV3J",
        "colab_type": "code",
        "colab": {}
      },
      "cell_type": "code",
      "source": [
        ""
      ],
      "execution_count": 0,
      "outputs": []
    }
  ]
}